{
 "cells": [
  {
   "cell_type": "markdown",
   "id": "1fa3e2af",
   "metadata": {},
   "source": [
    "## Pytorch nn.Conv2d卷积网络使用教程"
   ]
  },
  {
   "cell_type": "code",
   "execution_count": 1,
   "id": "a431e361",
   "metadata": {},
   "outputs": [],
   "source": [
    "import torch\n",
    "import torch.nn as nn\n",
    "import torch.nn.functional as F\n",
    "import math"
   ]
  },
  {
   "cell_type": "code",
   "execution_count": 2,
   "id": "b33245c7",
   "metadata": {},
   "outputs": [
    {
     "name": "stdout",
     "output_type": "stream",
     "text": [
      "tensor([[[[ 0.1191, -0.1261],\n",
      "          [-0.0245,  0.3192]]]], grad_fn=<ConvolutionBackward0>)\n",
      "tensor([[[[ 0.1191, -0.1261],\n",
      "          [-0.0245,  0.3192]]]], grad_fn=<ConvolutionBackward0>)\n"
     ]
    }
   ],
   "source": [
    "# 定义参数\n",
    "in_channels = 1\n",
    "out_channels = 1\n",
    "kernel_size = 3\n",
    "batch_size = 1\n",
    "bias = False\n",
    "input_size = [batch_size, in_channels, 4, 4]\n",
    "\n",
    "# 定义输入特征图\n",
    "input_feature_map = torch.randn(input_size)\n",
    "# 用nn.Conv2d创建卷积层\n",
    "conv_layer = nn.Conv2d(in_channels, out_channels, kernel_size, bias=bias)\n",
    "# 卷积运算\n",
    "output_feature_map = conv_layer(input_feature_map)\n",
    "print(output_feature_map)\n",
    "\n",
    "# 函数接口实现的卷积运算\n",
    "output_feature_map = F.conv2d(input_feature_map, conv_layer.weight)\n",
    "print(output_feature_map)\n"
   ]
  },
  {
   "cell_type": "markdown",
   "id": "5b3b9d7f",
   "metadata": {},
   "source": [
    "## 手写并验证二维卷积"
   ]
  },
  {
   "cell_type": "markdown",
   "id": "8b8d13a1",
   "metadata": {},
   "source": [
    "### step1 滑动窗口实现二维卷积，不考虑batch size维度和channel维度"
   ]
  },
  {
   "cell_type": "code",
   "execution_count": 34,
   "id": "7a773536",
   "metadata": {},
   "outputs": [
    {
     "name": "stdout",
     "output_type": "stream",
     "text": [
      "True\n"
     ]
    }
   ],
   "source": [
    "input = torch.randn(5, 5) # 卷积输入特征图\n",
    "kernel = torch.randn(3, 3) # 卷积核\n",
    "bias = torch.randn(1) # 卷积偏置， 默认输出通道数目等于1\n",
    "\n",
    "def matrix_multiplication_for_conv2d(input, kernel, bias=0, stride=1, padding=0):\n",
    "    if padding > 0:\n",
    "        input = F.pad(input, (padding, padding, padding, padding)) # 左右上下pad\n",
    "    \n",
    "    input_h, input_w = input.shape\n",
    "    kernel_h, kernel_w = kernel.shape\n",
    "    \n",
    "    output_h = math.floor((input_h - kernel_h) / stride) + 1 # 卷积输出的高度\n",
    "    output_w = math.floor((input_w - kernel_w) / stride) + 1 # 卷积输出的宽度\n",
    "    \n",
    "    output = torch.zeros(output_h, output_w) # 初始化输出矩阵\n",
    "    \n",
    "    for i in range(0, input_h - kernel_h + 1, stride): # 对高度维进行遍历\n",
    "        for j in range(0, input_w - kernel_w + 1, stride): # 对宽度维进行遍历\n",
    "            region = input[i:i+kernel_h, j:j+kernel_w] # 取出被核滑动到的区域\n",
    "            output[int(i/stride), int(j/stride)] = torch.sum(region * kernel) + bias # 点乘，并赋值给输出位置的元素\n",
    "    \n",
    "    return output\n",
    "\n",
    "# 矩阵乘法实现卷积的结果\n",
    "mat_mul_conv_output = matrix_multiplication_for_conv2d(input, kernel, bias=bias, padding=1, stride=2)\n",
    "\n",
    "# 调用Pytorch API卷积的结果\n",
    "pytorch_api_conv_output = F.conv2d(input.reshape((1, 1, input.shape[0], input.shape[1])), \\\n",
    "                                   kernel.reshape((1, 1, kernel.shape[0], kernel.shape[1])), \\\n",
    "                                   padding=1, \\\n",
    "                                   bias=bias, \\\n",
    "                                   stride=2).squeeze()\n",
    "# 验证滑动窗口的版本与Pytorch API的结果相同\n",
    "compare_result = torch.allclose(mat_mul_conv_output, pytorch_api_conv_output)\n",
    "print(compare_result)"
   ]
  },
  {
   "cell_type": "markdown",
   "id": "aa7f5779",
   "metadata": {},
   "source": [
    "### step2 向量乘法实现二维卷积，只flatten卷积区域版本，不考虑batch size维度和channel维度"
   ]
  },
  {
   "cell_type": "code",
   "execution_count": 39,
   "id": "afe3cd14",
   "metadata": {},
   "outputs": [
    {
     "name": "stdout",
     "output_type": "stream",
     "text": [
      "True\n"
     ]
    }
   ],
   "source": [
    "input = torch.randn(5, 5) # 卷积输入特征图\n",
    "kernel = torch.randn(3, 3) # 卷积核\n",
    "bias = torch.randn(1) # 卷积偏置， 默认输出通道数目等于1\n",
    "\n",
    "def matrix_multiplication_for_conv2d_flatten(input, kernel, bias=0, stride=1, padding=0):\n",
    "    if padding > 0:\n",
    "        input = F.pad(input, (padding, padding, padding, padding)) # 左右上下pad\n",
    "    \n",
    "    input_h, input_w = input.shape\n",
    "    kernel_h, kernel_w = kernel.shape\n",
    "    \n",
    "    output_h = math.floor((input_h - kernel_h) / stride) + 1 # 卷积输出的高度\n",
    "    output_w = math.floor((input_w - kernel_w) / stride) + 1 # 卷积输出的宽度\n",
    "    \n",
    "    region_matrix = torch.zeros(output_h * output_w, kernel.numel()) # 存储着所有的拉平后特征区域\n",
    "    kernel_matrix = kernel.reshape((-1, 1)) # kernel的列向量（矩阵形式）\n",
    "    \n",
    "    for i in range(0, input_h - kernel_h + 1, stride): # 对高度维进行遍历\n",
    "        for j in range(0, input_w - kernel_w + 1, stride): # 对宽度维进行遍历\n",
    "            region = input[i:i+kernel_h, j:j+kernel_w] # 取出被核滑动到的区域\n",
    "            region_vector = torch.flatten(region)\n",
    "            region_matrix[i//stride * output_w + j//stride] = region_vector\n",
    "    \n",
    "    # 矩阵相乘\n",
    "    output_matrix = region_matrix @ kernel_matrix\n",
    "    output = output_matrix.reshape((output_h, output_w)) + bias\n",
    "    \n",
    "    return output\n",
    "\n",
    "# 矩阵乘法实现卷积的结果，只flatten卷积区域版本\n",
    "mat_mul_conv_output_flatten = matrix_multiplication_for_conv2d_flatten(input, kernel, bias=bias, padding=1, stride=2)\n",
    "\n",
    "# 调用Pytorch API卷积的结果\n",
    "pytorch_api_conv_output = F.conv2d(input.reshape((1, 1, input.shape[0], input.shape[1])), \\\n",
    "                                   kernel.reshape((1, 1, kernel.shape[0], kernel.shape[1])), \\\n",
    "                                   padding=1, \\\n",
    "                                   bias=bias, \\\n",
    "                                   stride=2).squeeze()\n",
    "# 验证矩阵乘法只flatten卷积区域版本与Pytorch API的结果相同\n",
    "compare_result = torch.allclose(mat_mul_conv_output_flatten, pytorch_api_conv_output)\n",
    "print(compare_result)"
   ]
  },
  {
   "cell_type": "markdown",
   "id": "a7bdeb98",
   "metadata": {},
   "source": [
    "### step3 张量乘法实现二维卷积，flatten整个input版本，完整版本"
   ]
  },
  {
   "cell_type": "code",
   "execution_count": 79,
   "id": "1e14186b",
   "metadata": {},
   "outputs": [
    {
     "name": "stdout",
     "output_type": "stream",
     "text": [
      "True\n"
     ]
    }
   ],
   "source": [
    "input = torch.randn(4, 3, 5, 5) # 卷积输入特征图\n",
    "kernel = torch.randn(64, 3, 3, 3) # 卷积核\n",
    "bias = torch.randn(64)\n",
    "\n",
    "def matrix_multiplication_for_conv2d_full(input, kernel, bias=None, stride=1, padding=0):\n",
    "    # input, kernel都是4维的张量\n",
    "    if padding > 0:\n",
    "        input = F.pad(input, (padding, padding, padding, padding, 0, 0, 0, 0)) # 左右、上下、channel、batch size\n",
    "    \n",
    "    bs, in_channel, input_h, input_w = input.shape\n",
    "    out_channel, in_channel, kernel_h, kernel_w = kernel.shape\n",
    "    if bias is None:\n",
    "        bias = torch.zeros(out_channel)\n",
    "    \n",
    "    output_h = math.floor((input_h - kernel_h) / stride) + 1 # 卷积输出的高度\n",
    "    output_w = math.floor((input_w - kernel_w) / stride) + 1 # 卷积输出的宽度\n",
    "    \n",
    "    kernel_matrix = torch.zeros((out_channel, in_channel * input_h * input_w, output_h * output_w))\n",
    "    \n",
    "    for k in range(out_channel):\n",
    "        tmp_kernel_matrix = torch.zeros((in_channel, input_h, input_w, output_h * output_w))\n",
    "        for i in range(0, input_h - kernel_h + 1, stride): # 对高度维进行遍历\n",
    "            for j in range(0, input_w - kernel_w + 1, stride): # 对宽度维进行遍历\n",
    "                tmp_kernel_matrix[:, i:i+kernel_h, j:j+kernel_w, i//stride * output_w + j//stride] = kernel[k, :, :, :] # 卷积区域填充卷积核参数\n",
    "        kernel_matrix[k, :, :] = tmp_kernel_matrix.reshape((-1, output_h * output_w))\n",
    "    \n",
    "    full_kernel_matrix = kernel_matrix.repeat(bs, 1, 1, 1)\n",
    "    \n",
    "    input_matrix = input.reshape((bs, 1, 1, -1)).repeat(1, out_channel, 1, 1)\n",
    "    output = torch.matmul(input_matrix, full_kernel_matrix).reshape((bs, out_channel, output_h, output_w)) + bias.reshape((1, -1, 1, 1))\n",
    "    \n",
    "    return output\n",
    "\n",
    "# 矩阵乘法实现卷积的结果，flatten整个input版本\n",
    "mat_mul_conv_output_full = matrix_multiplication_for_conv2d_full(input, kernel, bias=bias, padding=1, stride=2)\n",
    "\n",
    "# 调用Pytorch API卷积的结果\n",
    "pytorch_api_conv_output = F.conv2d(input, kernel, bias=bias, padding=1, stride=2)\n",
    "\n",
    "# 验证矩阵乘法flatten整个input版本与Pytorch API的结果相同\n",
    "compare_result = torch.allclose(mat_mul_conv_output_full, pytorch_api_conv_output, rtol=0.00001, atol=0.00001)\n",
    "print(compare_result)"
   ]
  },
  {
   "cell_type": "code",
   "execution_count": null,
   "id": "cffff1b0",
   "metadata": {},
   "outputs": [],
   "source": []
  }
 ],
 "metadata": {
  "kernelspec": {
   "display_name": "Python [conda env:pytorch] *",
   "language": "python",
   "name": "conda-env-pytorch-py"
  },
  "language_info": {
   "codemirror_mode": {
    "name": "ipython",
    "version": 3
   },
   "file_extension": ".py",
   "mimetype": "text/x-python",
   "name": "python",
   "nbconvert_exporter": "python",
   "pygments_lexer": "ipython3",
   "version": "3.8.16"
  },
  "toc": {
   "base_numbering": 1,
   "nav_menu": {},
   "number_sections": true,
   "sideBar": true,
   "skip_h1_title": false,
   "title_cell": "Table of Contents",
   "title_sidebar": "Contents",
   "toc_cell": false,
   "toc_position": {},
   "toc_section_display": true,
   "toc_window_display": false
  },
  "varInspector": {
   "cols": {
    "lenName": 16,
    "lenType": 16,
    "lenVar": 40
   },
   "kernels_config": {
    "python": {
     "delete_cmd_postfix": "",
     "delete_cmd_prefix": "del ",
     "library": "var_list.py",
     "varRefreshCmd": "print(var_dic_list())"
    },
    "r": {
     "delete_cmd_postfix": ") ",
     "delete_cmd_prefix": "rm(",
     "library": "var_list.r",
     "varRefreshCmd": "cat(var_dic_list()) "
    }
   },
   "types_to_exclude": [
    "module",
    "function",
    "builtin_function_or_method",
    "instance",
    "_Feature"
   ],
   "window_display": false
  }
 },
 "nbformat": 4,
 "nbformat_minor": 5
}
